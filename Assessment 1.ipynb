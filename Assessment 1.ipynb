{
 "cells": [
  {
   "cell_type": "code",
   "execution_count": 43,
   "id": "00d30171",
   "metadata": {},
   "outputs": [
    {
     "name": "stdout",
     "output_type": "stream",
     "text": [
      "Argument: DEVadath@#$32762\n"
     ]
    },
    {
     "data": {
      "text/plain": [
       "True"
      ]
     },
     "execution_count": 43,
     "metadata": {},
     "output_type": "execute_result"
    }
   ],
   "source": [
    "#Question 1:Password Problem\n",
    "\n",
    "arg = input(\"Argument: \")\n",
    "def checkpass(password):\n",
    "    empty_list =[]\n",
    "    special_characters = \"!@#$%^&*()_+{}[]|\\\\:;\\\"'<>?,./\"\n",
    "    length, other_conditions = 0, 0\n",
    "\n",
    "    if len(password)>=8:\n",
    "            length = 1\n",
    "    for i in password:\n",
    "        if i.islower():\n",
    "            empty_list.append(\"Lower\")\n",
    "        if i.isupper():\n",
    "            empty_list.append(\"Upper\")\n",
    "        if i.isnumeric():\n",
    "            empty_list.append(\"Numeric\")\n",
    "        if i in special_characters:\n",
    "            empty_list.append(\"Special\")\n",
    "    if 'Lower' in empty_list and 'Upper' in empty_list and 'Numeric' in empty_list and 'Special' in empty_list:\n",
    "        other_conditions = 1\n",
    "\n",
    "    if length == 1 and other_conditions ==  1:                          \n",
    "        return True   \n",
    "    else:\n",
    "        return False \n",
    "\n",
    "checkpass(arg)        "
   ]
  },
  {
   "cell_type": "code",
   "execution_count": 18,
   "id": "b2e792b2",
   "metadata": {},
   "outputs": [
    {
     "name": "stdout",
     "output_type": "stream",
     "text": [
      "Give attendance record : P P A A P P P P P P\n",
      "('not suspended', 0.8)\n"
     ]
    }
   ],
   "source": [
    "#Question 2:ATTENDANCE PROBLEM\n",
    "\n",
    "def attendance(record):\n",
    "    record=record.replace(\" \",\"\")\n",
    "    t = len(record)\n",
    "    for j in record:\n",
    "        count_p = record.count('P')\n",
    "        count_a = record.count('A')\n",
    "    t = (count_p/len(record))\n",
    "    if t>=0.7:\n",
    "        tp = ('not suspended', t)\n",
    "    else:\n",
    "        tp = ('suspended', t)\n",
    "    print (tp)\n",
    "i = attendance(input(\"Give attendance record : \"))\n"
   ]
  },
  {
   "cell_type": "code",
   "execution_count": 71,
   "id": "23896cc0",
   "metadata": {},
   "outputs": [
    {
     "name": "stdout",
     "output_type": "stream",
     "text": [
      "High Scorer:  Dali\n"
     ]
    }
   ],
   "source": [
    "#Question 3:Ankit and Number \"2\" Problem\n",
    "\n",
    "argument = {'Alok': 10, 'Bikash': 24, 'Chandan': 26, 'Dali': 28, 'Eli': 30}\n",
    "def ankit_max(marks_dict):\n",
    "    marklist = list(marks_dict.values())\n",
    "    m=[]\n",
    "    t=-1\n",
    "    for i in marklist:\n",
    "        #print(i)\n",
    "        if i==t:\n",
    "            m.append('s')\n",
    "        t=i\n",
    "    #print(m)\n",
    "    d = len(l) - len(m)\n",
    "    #print(d)\n",
    "    if d==1:\n",
    "        print(\"None\")\n",
    "    else:\n",
    "        marks_list = list(marks_dict.values())\n",
    "        #print(marks_list)\n",
    "        marks_list.remove(max(marks_list))\n",
    "        #print(marks_list)\n",
    "        #print(max(marks_list))\n",
    "        for k,v in marks_dict.items():\n",
    "            if v == max(marks_list):\n",
    "                print(\"High Scorer: \",k)\n",
    "                \n",
    "ankit_max(argument)"
   ]
  },
  {
   "cell_type": "code",
   "execution_count": null,
   "id": "3c3db13d",
   "metadata": {},
   "outputs": [],
   "source": []
  },
  {
   "cell_type": "code",
   "execution_count": null,
   "id": "53ca7547",
   "metadata": {},
   "outputs": [],
   "source": []
  }
 ],
 "metadata": {
  "kernelspec": {
   "display_name": "Python 3",
   "language": "python",
   "name": "python3"
  },
  "language_info": {
   "codemirror_mode": {
    "name": "ipython",
    "version": 3
   },
   "file_extension": ".py",
   "mimetype": "text/x-python",
   "name": "python",
   "nbconvert_exporter": "python",
   "pygments_lexer": "ipython3",
   "version": "3.8.8"
  }
 },
 "nbformat": 4,
 "nbformat_minor": 5
}
